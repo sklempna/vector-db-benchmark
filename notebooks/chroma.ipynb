{
 "cells": [
  {
   "cell_type": "code",
   "execution_count": 1,
   "metadata": {},
   "outputs": [],
   "source": [
    "from chromadb.config import Settings\n",
    "from chromadb import Client"
   ]
  },
  {
   "cell_type": "code",
   "execution_count": 9,
   "metadata": {},
   "outputs": [],
   "source": [
    "client = Client(\n",
    "    Settings(\n",
    "        chroma_api_impl=\"rest\",\n",
    "        chroma_server_host=\"localhost\",\n",
    "        chroma_server_http_port=\"8000\",\n",
    "    )\n",
    ")"
   ]
  },
  {
   "cell_type": "code",
   "execution_count": 13,
   "metadata": {},
   "outputs": [
    {
     "data": {
      "text/plain": [
       "[]"
      ]
     },
     "execution_count": 13,
     "metadata": {},
     "output_type": "execute_result"
    }
   ],
   "source": [
    "client.list_collections()"
   ]
  },
  {
   "cell_type": "code",
   "execution_count": 11,
   "metadata": {},
   "outputs": [
    {
     "data": {
      "text/plain": [
       "{'ids': ['0', '1', '2', '3', '4'],\n",
       " 'embeddings': [[0.3, 0.6, 0.2],\n",
       "  [0.1, 0.1, 0.1],\n",
       "  [0.8, 0.0, 5.0, 0.0],\n",
       "  [0.1, 0.2, 0.6],\n",
       "  [0.5, 0.5, 0.5]],\n",
       " 'metadatas': [None, None, None, None, None],\n",
       " 'documents': [None, None, None, None, None]}"
      ]
     },
     "execution_count": 11,
     "metadata": {},
     "output_type": "execute_result"
    }
   ],
   "source": [
    "collection = client.get_collection(\"benchmark\")\n",
    "collection.peek()"
   ]
  },
  {
   "cell_type": "code",
   "execution_count": 12,
   "metadata": {},
   "outputs": [],
   "source": [
    "client.delete_collection(\"benchmark\")"
   ]
  },
  {
   "cell_type": "code",
   "execution_count": 26,
   "metadata": {},
   "outputs": [
    {
     "data": {
      "text/plain": [
       "{'ids': ['0', '1', '2', '3', '4'],\n",
       " 'embeddings': [[0.1, 0.5, 0.4, 0.9, 0.0],\n",
       "  [0.6, 0.6, 0.1, 0.2, 0.9],\n",
       "  [0.7, 0.3, 0.1, 0.3, 0.3],\n",
       "  [0.9, 0.8, 0.0, 0.2, 0.1],\n",
       "  [0.7, 0.8, 0.9, 0.0, 0.0]],\n",
       " 'metadatas': [None, None, None, None, None],\n",
       " 'documents': [None, None, None, None, None]}"
      ]
     },
     "execution_count": 26,
     "metadata": {},
     "output_type": "execute_result"
    }
   ],
   "source": [
    "collection.peek()"
   ]
  },
  {
   "cell_type": "code",
   "execution_count": 31,
   "metadata": {},
   "outputs": [
    {
     "name": "stdout",
     "output_type": "stream",
     "text": [
      "None\n"
     ]
    }
   ],
   "source": [
    "print(collection.metadata)"
   ]
  },
  {
   "cell_type": "code",
   "execution_count": null,
   "metadata": {},
   "outputs": [],
   "source": []
  }
 ],
 "metadata": {
  "kernelspec": {
   "display_name": "env",
   "language": "python",
   "name": "python3"
  },
  "language_info": {
   "codemirror_mode": {
    "name": "ipython",
    "version": 3
   },
   "file_extension": ".py",
   "mimetype": "text/x-python",
   "name": "python",
   "nbconvert_exporter": "python",
   "pygments_lexer": "ipython3",
   "version": "3.11.4"
  },
  "orig_nbformat": 4
 },
 "nbformat": 4,
 "nbformat_minor": 2
}
