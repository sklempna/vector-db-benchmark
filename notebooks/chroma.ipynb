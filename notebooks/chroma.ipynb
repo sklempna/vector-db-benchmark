{
 "cells": [
  {
   "cell_type": "code",
   "execution_count": 19,
   "metadata": {},
   "outputs": [],
   "source": [
    "from chromadb.config import Settings\n",
    "from chromadb import Client"
   ]
  },
  {
   "cell_type": "code",
   "execution_count": 23,
   "metadata": {},
   "outputs": [],
   "source": [
    "client = Client(\n",
    "    Settings(\n",
    "        chroma_api_impl=\"rest\",\n",
    "        chroma_server_host=\"localhost\",\n",
    "        chroma_server_http_port=\"8000\",\n",
    "    )\n",
    ")"
   ]
  },
  {
   "cell_type": "code",
   "execution_count": 24,
   "metadata": {},
   "outputs": [
    {
     "data": {
      "text/plain": [
       "[Collection(name=benchmark)]"
      ]
     },
     "execution_count": 24,
     "metadata": {},
     "output_type": "execute_result"
    }
   ],
   "source": [
    "client.list_collections()"
   ]
  },
  {
   "cell_type": "code",
   "execution_count": 32,
   "metadata": {},
   "outputs": [
    {
     "ename": "Exception",
     "evalue": "{\"error\":\"ValueError('Collection benchmark does not exist')\"}",
     "output_type": "error",
     "traceback": [
      "\u001b[0;31m---------------------------------------------------------------------------\u001b[0m",
      "\u001b[0;31mHTTPError\u001b[0m                                 Traceback (most recent call last)",
      "File \u001b[0;32m~/Code/vector-db-benchmark/env/lib/python3.11/site-packages/chromadb/api/fastapi.py:400\u001b[0m, in \u001b[0;36mraise_chroma_error\u001b[0;34m(resp)\u001b[0m\n\u001b[1;32m    399\u001b[0m \u001b[39mtry\u001b[39;00m:\n\u001b[0;32m--> 400\u001b[0m     resp\u001b[39m.\u001b[39;49mraise_for_status()\n\u001b[1;32m    401\u001b[0m \u001b[39mexcept\u001b[39;00m requests\u001b[39m.\u001b[39mHTTPError:\n",
      "File \u001b[0;32m~/Code/vector-db-benchmark/env/lib/python3.11/site-packages/requests/models.py:1021\u001b[0m, in \u001b[0;36mResponse.raise_for_status\u001b[0;34m(self)\u001b[0m\n\u001b[1;32m   1020\u001b[0m \u001b[39mif\u001b[39;00m http_error_msg:\n\u001b[0;32m-> 1021\u001b[0m     \u001b[39mraise\u001b[39;00m HTTPError(http_error_msg, response\u001b[39m=\u001b[39m\u001b[39mself\u001b[39m)\n",
      "\u001b[0;31mHTTPError\u001b[0m: 500 Server Error: Internal Server Error for url: http://localhost:8000/api/v1/collections/benchmark",
      "\nDuring handling of the above exception, another exception occurred:\n",
      "\u001b[0;31mException\u001b[0m                                 Traceback (most recent call last)",
      "Cell \u001b[0;32mIn[32], line 1\u001b[0m\n\u001b[0;32m----> 1\u001b[0m collection \u001b[39m=\u001b[39m client\u001b[39m.\u001b[39;49mget_collection(\u001b[39m\"\u001b[39;49m\u001b[39mbenchmark\u001b[39;49m\u001b[39m\"\u001b[39;49m)\n",
      "File \u001b[0;32m~/Code/vector-db-benchmark/env/lib/python3.11/site-packages/chromadb/api/fastapi.py:90\u001b[0m, in \u001b[0;36mFastAPI.get_collection\u001b[0;34m(self, name, embedding_function)\u001b[0m\n\u001b[1;32m     88\u001b[0m \u001b[39m\u001b[39m\u001b[39m\"\"\"Returns a collection\"\"\"\u001b[39;00m\n\u001b[1;32m     89\u001b[0m resp \u001b[39m=\u001b[39m requests\u001b[39m.\u001b[39mget(\u001b[39mself\u001b[39m\u001b[39m.\u001b[39m_api_url \u001b[39m+\u001b[39m \u001b[39m\"\u001b[39m\u001b[39m/collections/\u001b[39m\u001b[39m\"\u001b[39m \u001b[39m+\u001b[39m name)\n\u001b[0;32m---> 90\u001b[0m raise_chroma_error(resp)\n\u001b[1;32m     91\u001b[0m resp_json \u001b[39m=\u001b[39m resp\u001b[39m.\u001b[39mjson()\n\u001b[1;32m     92\u001b[0m \u001b[39mreturn\u001b[39;00m Collection(\n\u001b[1;32m     93\u001b[0m     client\u001b[39m=\u001b[39m\u001b[39mself\u001b[39m,\n\u001b[1;32m     94\u001b[0m     name\u001b[39m=\u001b[39mresp_json[\u001b[39m\"\u001b[39m\u001b[39mname\u001b[39m\u001b[39m\"\u001b[39m],\n\u001b[0;32m   (...)\u001b[0m\n\u001b[1;32m     97\u001b[0m     metadata\u001b[39m=\u001b[39mresp_json[\u001b[39m\"\u001b[39m\u001b[39mmetadata\u001b[39m\u001b[39m\"\u001b[39m],\n\u001b[1;32m     98\u001b[0m )\n",
      "File \u001b[0;32m~/Code/vector-db-benchmark/env/lib/python3.11/site-packages/chromadb/api/fastapi.py:402\u001b[0m, in \u001b[0;36mraise_chroma_error\u001b[0;34m(resp)\u001b[0m\n\u001b[1;32m    400\u001b[0m     resp\u001b[39m.\u001b[39mraise_for_status()\n\u001b[1;32m    401\u001b[0m \u001b[39mexcept\u001b[39;00m requests\u001b[39m.\u001b[39mHTTPError:\n\u001b[0;32m--> 402\u001b[0m     \u001b[39mraise\u001b[39;00m (\u001b[39mException\u001b[39;00m(resp\u001b[39m.\u001b[39mtext))\n",
      "\u001b[0;31mException\u001b[0m: {\"error\":\"ValueError('Collection benchmark does not exist')\"}"
     ]
    }
   ],
   "source": [
    "collection = client.get_collection(\"benchmark\")"
   ]
  },
  {
   "cell_type": "code",
   "execution_count": 26,
   "metadata": {},
   "outputs": [
    {
     "data": {
      "text/plain": [
       "{'ids': ['0', '1', '2', '3', '4'],\n",
       " 'embeddings': [[0.1, 0.5, 0.4, 0.9, 0.0],\n",
       "  [0.6, 0.6, 0.1, 0.2, 0.9],\n",
       "  [0.7, 0.3, 0.1, 0.3, 0.3],\n",
       "  [0.9, 0.8, 0.0, 0.2, 0.1],\n",
       "  [0.7, 0.8, 0.9, 0.0, 0.0]],\n",
       " 'metadatas': [None, None, None, None, None],\n",
       " 'documents': [None, None, None, None, None]}"
      ]
     },
     "execution_count": 26,
     "metadata": {},
     "output_type": "execute_result"
    }
   ],
   "source": [
    "collection.peek()"
   ]
  },
  {
   "cell_type": "code",
   "execution_count": 31,
   "metadata": {},
   "outputs": [
    {
     "name": "stdout",
     "output_type": "stream",
     "text": [
      "None\n"
     ]
    }
   ],
   "source": [
    "print(collection.metadata)"
   ]
  },
  {
   "cell_type": "code",
   "execution_count": null,
   "metadata": {},
   "outputs": [],
   "source": []
  }
 ],
 "metadata": {
  "kernelspec": {
   "display_name": "env",
   "language": "python",
   "name": "python3"
  },
  "language_info": {
   "codemirror_mode": {
    "name": "ipython",
    "version": 3
   },
   "file_extension": ".py",
   "mimetype": "text/x-python",
   "name": "python",
   "nbconvert_exporter": "python",
   "pygments_lexer": "ipython3",
   "version": "3.11.4"
  },
  "orig_nbformat": 4
 },
 "nbformat": 4,
 "nbformat_minor": 2
}
